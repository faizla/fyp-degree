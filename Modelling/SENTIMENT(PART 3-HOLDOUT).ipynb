{
 "cells": [
  {
   "cell_type": "code",
   "execution_count": 15,
   "metadata": {},
   "outputs": [],
   "source": [
    "import pandas as pd\n",
    "import numpy as np"
   ]
  },
  {
   "cell_type": "code",
   "execution_count": 16,
   "metadata": {},
   "outputs": [],
   "source": [
    "from nltk import TweetTokenizer\n",
    "from nltk.stem import PorterStemmer\n",
    "import re\n",
    "\n",
    "def preprocess_tweet(tweet):\n",
    "    '''\n",
    "    Preprocess the text in a single tweet\n",
    "    arguments: tweet = a single tweet in form of string \n",
    "    '''\n",
    "    #convert the tweet to lower case just for convinient purpose\n",
    "    tweet = tweet.lower()\n",
    "    #convert all urls to string \"URL\"\n",
    "    tweet = re.sub('((www\\.[^\\s]+)|(https?://[^\\s]+))','',tweet)\n",
    "    #convert all @username to \"AT_USER\"\n",
    "    tweet = re.sub('@[^\\s]+','', tweet)#tweet = re.sub('@[^\\s]+','AT_USER', tweet)\n",
    "    #correct all multiple white spaces to a single white space\n",
    "    tweet = re.sub('[\\s]+', ' ', tweet)\n",
    "    #convert \"#topic\" to just \"topic\"\n",
    "    tweet = re.sub(r'#([^\\s]+)', r'\\1', tweet)\n",
    "    return tweet\n",
    "\n",
    "def stemSentence(tweet):\n",
    "    '''\n",
    "    To stem words to their common roots form eg:crying,cries,cried-->cry\n",
    "    '''\n",
    "    # Call the stemmer\n",
    "    porter = PorterStemmer()\n",
    "    \n",
    "    tokenizer = TweetTokenizer()\n",
    "    token_tweet=tokenizer.tokenize(tweet)\n",
    "    stem_sentence=[]\n",
    "    for word in token_tweet:\n",
    "        stem_sentence.append(porter.stem(word))\n",
    "        stem_sentence.append(' ')\n",
    "    return ''.join(stem_sentence)"
   ]
  },
  {
   "cell_type": "code",
   "execution_count": 17,
   "metadata": {},
   "outputs": [],
   "source": [
    "holdout = pd.read_csv('/Users/faiz/FYPCoding/FYP/trainingandtestdata/testdata.csv',header=None)\n",
    "holdout.columns = ['sentiment','id','date','flag','user','text']\n",
    "#delete 3 columns: flags,id,user, as they are not required for analysis\n",
    "holdout = holdout.drop([\"id\",\"user\",\"date\",\"flag\"], axis = 1)\n",
    "#in sentiment140 dataset, positive = 4, negative = 0; So we change positive to 1\n",
    "holdout.sentiment = holdout.sentiment.replace(4,1)\n",
    "holdout = holdout[holdout['sentiment'] != 2]\n"
   ]
  },
  {
   "cell_type": "code",
   "execution_count": 18,
   "metadata": {},
   "outputs": [],
   "source": [
    "#Preprocess tweets\n",
    "holdout['text'] = holdout['text'].apply(preprocess_tweet)"
   ]
  },
  {
   "cell_type": "code",
   "execution_count": 19,
   "metadata": {},
   "outputs": [],
   "source": [
    "#replace field that contains whitespace only is converted to NAN\n",
    "holdout.replace(r'^\\s*$', np.nan , regex=True, inplace=True)"
   ]
  },
  {
   "cell_type": "code",
   "execution_count": 20,
   "metadata": {},
   "outputs": [
    {
     "name": "stdout",
     "output_type": "stream",
     "text": [
      "<class 'pandas.core.frame.DataFrame'>\n",
      "Int64Index: 359 entries, 0 to 497\n",
      "Data columns (total 2 columns):\n",
      "sentiment    359 non-null int64\n",
      "text         359 non-null object\n",
      "dtypes: int64(1), object(1)\n",
      "memory usage: 8.4+ KB\n"
     ]
    }
   ],
   "source": [
    "holdout.info()\n",
    "#no missing data detected"
   ]
  },
  {
   "cell_type": "code",
   "execution_count": 21,
   "metadata": {},
   "outputs": [
    {
     "name": "stdout",
     "output_type": "stream",
     "text": [
      "<class 'pandas.core.frame.DataFrame'>\n",
      "Int64Index: 359 entries, 0 to 497\n",
      "Data columns (total 2 columns):\n",
      "sentiment    359 non-null int64\n",
      "text         359 non-null object\n",
      "dtypes: int64(1), object(1)\n",
      "memory usage: 8.4+ KB\n"
     ]
    }
   ],
   "source": [
    "holdout.dropna(inplace=True)\n",
    "holdout.info()"
   ]
  },
  {
   "cell_type": "code",
   "execution_count": 22,
   "metadata": {},
   "outputs": [],
   "source": [
    "holdout['text'] = holdout['text'].apply(stemSentence)\n",
    "\n"
   ]
  },
  {
   "cell_type": "code",
   "execution_count": 23,
   "metadata": {},
   "outputs": [
    {
     "name": "stdout",
     "output_type": "stream",
     "text": [
      "read my kindl 2 ... love it ... lee child is good read . \n",
      "i loooooooovvvvvvee my kindl 2 . not that the dx is cool , but the 2 is fantast in it own right . \n"
     ]
    }
   ],
   "source": [
    "print(holdout.text[1])\n",
    "print(holdout.text[0])"
   ]
  },
  {
   "cell_type": "code",
   "execution_count": 24,
   "metadata": {},
   "outputs": [],
   "source": [
    "import pickle\n",
    "from sklearn.metrics import accuracy_score,confusion_matrix\n",
    "\n",
    "# load the model from disk\n",
    "loaded_model_cv = pickle.load(open('cvsent_model.sav', 'rb'))\n",
    "loaded_model_tvc = pickle.load(open('tvcsent_model.sav', 'rb'))\n",
    "\n",
    "cv_loaded = pickle.load(open('cv_fitted.sav', 'rb'))\n",
    "tvc_loaded = pickle.load(open('tvc_fitted.sav', 'rb'))"
   ]
  },
  {
   "cell_type": "code",
   "execution_count": 32,
   "metadata": {},
   "outputs": [
    {
     "name": "stdout",
     "output_type": "stream",
     "text": [
      "CountVectorizer Performance\n",
      "Accuracy score holdout set:  0.8217270194986073\n",
      "Confusion matrix holdout set: \n",
      " [[0.38997214 0.10306407]\n",
      " [0.07520891 0.43175487]]\n",
      "\n",
      "TF-IDF Performance\n",
      "Accuracy score holdout set:  0.8105849582172702\n",
      "Confusion matrix holdout set: \n",
      " [[0.38718663 0.10584958]\n",
      " [0.08356546 0.42339833]]\n"
     ]
    }
   ],
   "source": [
    "# Transform the review column\n",
    "cv_transformhold = cv_loaded.transform(holdout.text)\n",
    "\n",
    "# Create the bow representation\n",
    "# df_holdout=pd.DataFrame(cv_transformhold.toarray(), columns=cv_loaded.get_feature_names())\n",
    "# print(df_holdout.head())\n",
    "\n",
    "\n",
    "y_cv = holdout.sentiment\n",
    "X_cv = cv_transformhold\n",
    "\n",
    "y_predicted_cv = loaded_model_cv.predict(X_cv)\n",
    "\n",
    "#print('Accuracy on holdout set: ', log_reg.score(X,y))\n",
    "print('CountVectorizer Performance')\n",
    "print('Accuracy score holdout set: ', accuracy_score(y_cv, y_predicted_cv))\n",
    "print('Confusion matrix holdout set: \\n', confusion_matrix(y_cv, y_predicted_cv)/len(y_cv))\n",
    "\n",
    "result_cv = loaded_model_cv.score(X_cv, y_cv)\n",
    "print(result_cv)\n",
    "print()\n",
    "\n",
    "\n",
    "# Transform the review column\n",
    "tvc_transformhold = tvc_loaded.transform(holdout.text)\n",
    "\n",
    "# Create the bow representation\n",
    "# df_holdout=pd.DataFrame(tvc_transformhold.toarray(), columns=tvc_loaded.get_feature_names())\n",
    "# print(df_holdout.head())\n",
    "\n",
    "\n",
    "y_tvc = holdout.sentiment\n",
    "X_tvc = tvc_transformhold\n",
    "\n",
    "y_predicted_tvc = loaded_model_tvc.predict(X_tvc)\n",
    "\n",
    "#print('Accuracy on holdout set: ', log_reg.score(X,y))\n",
    "print('TF-IDF Performance')\n",
    "\n",
    "print('Accuracy score holdout set: ', accuracy_score(y_tvc, y_predicted_tvc))\n",
    "print('Confusion matrix holdout set: \\n', confusion_matrix(y_tvc, y_predicted_tvc)/len(y_tvc))\n",
    "\n",
    "result_tvc = loaded_model_tvc.score(X_tvc, y_tvc)\n",
    "print(result_tvc)"
   ]
  },
  {
   "cell_type": "code",
   "execution_count": 26,
   "metadata": {},
   "outputs": [
    {
     "name": "stdout",
     "output_type": "stream",
     "text": [
      "Accuracy score holdout set:  0.8105849582172702\n",
      "Confusion matrix holdout set: \n",
      " [[0.38718663 0.10584958]\n",
      " [0.08356546 0.42339833]]\n",
      "0.8105849582172702\n"
     ]
    }
   ],
   "source": [
    "# Transform the review column\n",
    "tvc_transformhold = tvc_loaded.transform(holdout.text)\n",
    "\n",
    "# Create the bow representation\n",
    "# df_holdout=pd.DataFrame(tvc_transformhold.toarray(), columns=tvc_loaded.get_feature_names())\n",
    "# print(df_holdout.head())\n",
    "\n",
    "\n",
    "y = holdout.sentiment\n",
    "X = tvc_transformhold\n",
    "\n",
    "y_predicted = loaded_model_tvc.predict(X)\n",
    "\n",
    "#print('Accuracy on holdout set: ', log_reg.score(X,y))\n",
    "\n",
    "print('Accuracy score holdout set: ', accuracy_score(y, y_predicted))\n",
    "print('Confusion matrix holdout set: \\n', confusion_matrix(y, y_predicted)/len(y))\n",
    "\n",
    "result = loaded_model.score(X, y)\n",
    "print(result)\n"
   ]
  },
  {
   "cell_type": "code",
   "execution_count": 77,
   "metadata": {},
   "outputs": [
    {
     "name": "stdout",
     "output_type": "stream",
     "text": [
      "0\n"
     ]
    }
   ],
   "source": [
    "stra = [\"i like you\"]\n",
    "X = cv_loaded.transform(stra)\n",
    "y_predicted = loaded_model.predict(X)\n",
    "print(str(y_predicted).strip('[]'))\n"
   ]
  },
  {
   "cell_type": "code",
   "execution_count": null,
   "metadata": {},
   "outputs": [],
   "source": []
  }
 ],
 "metadata": {
  "kernelspec": {
   "display_name": "Python 3",
   "language": "python",
   "name": "python3"
  },
  "language_info": {
   "codemirror_mode": {
    "name": "ipython",
    "version": 3
   },
   "file_extension": ".py",
   "mimetype": "text/x-python",
   "name": "python",
   "nbconvert_exporter": "python",
   "pygments_lexer": "ipython3",
   "version": "3.7.3"
  }
 },
 "nbformat": 4,
 "nbformat_minor": 2
}
